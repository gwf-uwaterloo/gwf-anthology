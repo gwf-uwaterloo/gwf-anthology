{
 "cells": [
  {
   "cell_type": "code",
   "execution_count": 18,
   "metadata": {},
   "outputs": [],
   "source": [
    "import pandas as pd\n",
    "\n",
    "doi_prj_df = pd.read_excel('doi2projects.xlsx')\n",
    "\n",
    "a = doi_prj_df['Project Name'].value_counts()\n",
    "prj_dict = {}\n",
    "cnt = 1\n",
    "for item, count in a.sort_index().items():\n",
    "    prj_dict[item] = \"prj\"+str(cnt)\n",
    "    cnt += 1\n",
    "doi_prj_df['prj'] = doi_prj_df['Project Name'].map(prj_dict)    "
   ]
  },
  {
   "cell_type": "code",
   "execution_count": 19,
   "metadata": {},
   "outputs": [],
   "source": [
    "doi_prj_df.to_excel('doi2projects.xlsx', index=False)"
   ]
  },
  {
   "cell_type": "code",
   "execution_count": 20,
   "metadata": {},
   "outputs": [
    {
     "name": "stdout",
     "output_type": "stream",
     "text": [
      "\"prj1\" \"prj2\" \"prj3\" \"prj4\" \"prj5\" \"prj6\" \"prj7\" \"prj8\" \"prj9\" \"prj10\" \"prj11\" \"prj12\" \"prj13\" \"prj14\" \"prj15\" \"prj16\" \"prj17\" \"prj18\" \"prj19\" \"prj20\" \"prj21\" \"prj22\" \"prj23\" \"prj24\" \"prj25\" \"prj26\" \"prj27\" \"prj28\" \"prj29\" \"prj30\" \"prj31\" \"prj32\" \"prj33\" \"prj34\" \"prj35\" \"prj36\" \"prj37\" \"prj38\" \"prj39\" \"prj40\" \"prj41\" \"prj42\" \"prj43\" \"prj44\" \"prj45\" \"prj46\"\n",
      "\n",
      "\"(eDNA) Next Generation Solutions to Ensure Healthy Water Resources for Future Generations\" \"Agricultural Water Futures\" \"Artificial Intelligence Applications for Rapid and Reliable Detection of Cryptosporidium oocysts and Giardia cysts\" \"Boreal Water Futures: Canada’s Boreal Wildlands-Society-Water Nexus\" \"Climate-Related Precipitation Extremes\" \"Co-Creation of Indigenous Water Quality Tools\" \"Collaborative Modelling Framework for Water Futures and Holistic Human Health Effects\" \"Core Computer Science Team\" \"Core Modelling & Forecasting Team\" \"Core Technical Team\" \"Crowdsourcing Water Science\" \"Data Management \" \"Developing ‘Omic’ and Chemical Fingerprinting Methodologies: Using Ultrahigh-Resolution Mass Spectrometry for Geochemistry and Healthy Waters\" \"Diagnosing and Mitigating Hydrologic Model Uncertainty in High-Latitude Canadian Watersheds\" \"Evaluation of Ice Models in Large Lakes: Using Three-Dimensional Coupled Hydrodynamic-Ice Models\" \"FORMBLOOM: Forecasting Tools and Mitigation Options for Diverse Bloom-Affected Lakes\" \"GLOBAL WATER CITIZENSHIP: INTEGRATING NETWORKED CITIZENS, SCIENTISTS AND LOCAL DECISION MAKERS\" \"Geogenic contamination of groundwater resources in subarctic regions\" \"Hydrological Processes in Frozen Soils\" \"Integrated Modelling Program for Canada (IMPC)\" \"Knowledge Mobilization Team\" \"Lake Futures: Enhancing Adaptive Capacity and Resilience of Lakes and their Watersheds\" \"Linking Multiple Stressors to Adverse Ecological Responses Across Watersheds\" \"Linking Stream Network Process Models to Robust Data Management Systems for the Purpose of Land-Use Decision Support\" \"Linking Water Governance in Canada to Global Economic, Social and Political Drivers\" \"Managing Urban Eutrophication Risks under Climate Change: An Integrated Modelling and Decision Support Framework\" \"Mountain Water Futures\" \"Northern Water Futures\" \"Ohneganos – Indigenous ecological knowledge, training and co-creation of mixed method tools\" \"Old Meets New: Subsurface Hydrogeological Connectivity and Groundwater Protection\" \"Others\" \"Paradigm Shift in Downscaling Climate Model Projections: Building Models and Tools to Advance Climate Change Research in Cold Regions\" \"Prairie Water: Enhancing resilience of Prairie communities through sustainable water management\" \"Remotely Sensed Monitoring of Northern lake Ice Using RADARSAT Constellation Mission and Cloud Computing Processing\" \"SAMMS: Sub-Arctic Metal Mobility Study\" \"SPADE: Storms and Precipitation Across the Continental Divide Experiment\" \"Saint John river Experiment on cold Season Storms (SaJESS)\" \"Sensors and Sensing Systems for Water Quality Monitoring\" \"Short‐Duration Extreme Precipitation in Future Climate\" \"Significance of Groundwater Dynamics within Hydrologic Models \" \"Southern Forests Water Futures\" \"Transformative Sensor Technologies and Smart Watersheds for Canadian Water Futures\" \"We need more than just water: Assessing sediment limitation in a large freshwater delta\" \"What is Water Worth? Valuing Canada’s Water Resources and Aquatic Ecosystem Services\" \"Winter Soil Processes in Transition\" \"Others\"\n"
     ]
    }
   ],
   "source": [
    "# copy and pase the output of this cell to the file index.html after the \"projects\" comment\n",
    "\n",
    "for key, value in prj_dict.items():\n",
    "    print(f'\"{value}\"', end=' ')\n",
    "print('\"prj46\"')\n",
    "\n",
    "print()\n",
    "for key, value in prj_dict.items():\n",
    "    print(f'\"{key}\"', end=' ')   \n",
    "print('\"Others\"')     "
   ]
  }
 ],
 "metadata": {
  "kernelspec": {
   "display_name": "base",
   "language": "python",
   "name": "python3"
  },
  "language_info": {
   "codemirror_mode": {
    "name": "ipython",
    "version": 3
   },
   "file_extension": ".py",
   "mimetype": "text/x-python",
   "name": "python",
   "nbconvert_exporter": "python",
   "pygments_lexer": "ipython3",
   "version": "3.9.19"
  }
 },
 "nbformat": 4,
 "nbformat_minor": 2
}
